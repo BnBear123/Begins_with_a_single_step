{
 "cells": [
  {
   "cell_type": "code",
   "execution_count": 8,
   "metadata": {},
   "outputs": [],
   "source": [
    "temp = \"\"\"김영민A\n",
    "문영운\n",
    "문호준\n",
    "박건영\n",
    "박상우\n",
    "박혜민\n",
    "박혜정\n",
    "배수목\n",
    "성동엽\n",
    "성종희\n",
    "유준혁\n",
    "이선오\n",
    "이영빈\n",
    "이예원\n",
    "정재영\n",
    "조혜인\n",
    "최지영\"\"\"\n",
    "\n",
    "temp = temp.split(\"\\n\")"
   ]
  },
  {
   "cell_type": "code",
   "execution_count": 11,
   "metadata": {},
   "outputs": [
    {
     "data": {
      "text/plain": [
       "['김영민A', '문호준', '박건영', '박혜정', '배수목', '성동엽', '성종희', '이영빈', '최지영']"
      ]
     },
     "execution_count": 11,
     "metadata": {},
     "output_type": "execute_result"
    }
   ],
   "source": [
    "temp.remove(\"문영운\")\n",
    "temp.remove(\"박상우\")\n",
    "temp.remove(\"박혜민\")\n",
    "temp.remove(\"유준혁\")\n",
    "temp.remove(\"이선오\")\n",
    "temp.remove(\"이예원\")\n",
    "temp.remove(\"정재영\")\n",
    "temp.remove(\"조혜인\")\n",
    "\n",
    "temp"
   ]
  },
  {
   "cell_type": "code",
   "execution_count": 19,
   "metadata": {},
   "outputs": [
    {
     "name": "stdout",
     "output_type": "stream",
     "text": [
      "1. 자료형 -> 이영빈\n",
      "2. 제어문 -> 박혜정\n",
      "3. 함수 -> 김영민A\n"
     ]
    }
   ],
   "source": [
    "import random\n",
    "\n",
    "title = [\"1. 자료형\", \"2. 제어문\", \"3. 함수\"]\n",
    "student = [random.choice(temp) for _ in range(3)]\n",
    "\n",
    "for t, s in zip(title, student):\n",
    "    print(f\"{t} -> {s}\")"
   ]
  }
 ],
 "metadata": {
  "kernelspec": {
   "display_name": "Python 3.9.12 64-bit",
   "language": "python",
   "name": "python3"
  },
  "language_info": {
   "codemirror_mode": {
    "name": "ipython",
    "version": 3
   },
   "file_extension": ".py",
   "mimetype": "text/x-python",
   "name": "python",
   "nbconvert_exporter": "python",
   "pygments_lexer": "ipython3",
   "version": "3.9.12"
  },
  "orig_nbformat": 4,
  "vscode": {
   "interpreter": {
    "hash": "ca7051211f7d0cb84f9a5276aced427e23f2f109de898d0e63a1c129a12d67d5"
   }
  }
 },
 "nbformat": 4,
 "nbformat_minor": 2
}
