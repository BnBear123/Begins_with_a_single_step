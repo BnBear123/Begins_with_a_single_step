{
 "cells": [
  {
   "cell_type": "markdown",
   "metadata": {},
   "source": [
    "# 파이썬 기초 문법 후반부 리딩 자료\n",
    "\n",
    "### 람다 표현식\n",
    "익명 함수라고도 부르며, 간단한 함수를 일시적으로 사용하는 경우, 다른 함수의 인수로 넣는 경우 주로 사용  \n",
    "식 형태로 되어있다고해서 **람다 표현식(lambda expression)** 이라고 부름"
   ]
  },
  {
   "cell_type": "code",
   "execution_count": 1,
   "metadata": {},
   "outputs": [
    {
     "name": "stdout",
     "output_type": "stream",
     "text": [
      "15 15\n"
     ]
    }
   ],
   "source": [
    "def add10(x):\n",
    "    return x+10\n",
    "\n",
    "lambda_func = lambda x:x+10\n",
    "\n",
    "print(add10(5), lambda_func(5))"
   ]
  },
  {
   "cell_type": "markdown",
   "metadata": {},
   "source": [
    "`lambda 매개변수:반환값`"
   ]
  },
  {
   "cell_type": "code",
   "execution_count": 2,
   "metadata": {},
   "outputs": [
    {
     "data": {
      "text/plain": [
       "15"
      ]
     },
     "execution_count": 2,
     "metadata": {},
     "output_type": "execute_result"
    }
   ],
   "source": [
    "(lambda x:x+10)(5)"
   ]
  },
  {
   "cell_type": "code",
   "execution_count": 4,
   "metadata": {},
   "outputs": [
    {
     "ename": "SyntaxError",
     "evalue": "invalid syntax (1727540298.py, line 1)",
     "output_type": "error",
     "traceback": [
      "\u001b[1;36m  Input \u001b[1;32mIn [4]\u001b[1;36m\u001b[0m\n\u001b[1;33m    (lambda x: y=10; x+y)(1)\u001b[0m\n\u001b[1;37m                ^\u001b[0m\n\u001b[1;31mSyntaxError\u001b[0m\u001b[1;31m:\u001b[0m invalid syntax\n"
     ]
    }
   ],
   "source": [
    "(lambda x: y=10; x+y)(1)"
   ]
  },
  {
   "cell_type": "markdown",
   "metadata": {},
   "source": [
    "람다 표현식 안에는 변수를 만들 수 없음  \n",
    "-> 2개 이상의 변수를 사용하는 경우에는 `def`로 함수를 작성해 사용하는 것을 권장"
   ]
  },
  {
   "cell_type": "code",
   "execution_count": 6,
   "metadata": {},
   "outputs": [
    {
     "data": {
      "text/plain": [
       "[1, 4, 9, 16]"
      ]
     },
     "execution_count": 6,
     "metadata": {},
     "output_type": "execute_result"
    }
   ],
   "source": [
    "list(map(lambda x:x**2, [1, 2, 3, 4]))"
   ]
  },
  {
   "cell_type": "code",
   "execution_count": 8,
   "metadata": {},
   "outputs": [
    {
     "data": {
      "text/plain": [
       "[1, 2, '3', 4, 5, '6', 7, 8, '9', 10]"
      ]
     },
     "execution_count": 8,
     "metadata": {},
     "output_type": "execute_result"
    }
   ],
   "source": [
    "# 조건을 넣는 경우\n",
    "a = [1, 2, 3, 4, 5, 6, 7, 8, 9, 10]\n",
    "list(map(lambda x: str(x) if x%3==0 else x, a))"
   ]
  },
  {
   "cell_type": "code",
   "execution_count": 9,
   "metadata": {},
   "outputs": [
    {
     "data": {
      "text/plain": [
       "['1', 2.0, 13, 14, 15, 16, 17, 18, 19, 20]"
      ]
     },
     "execution_count": 9,
     "metadata": {},
     "output_type": "execute_result"
    }
   ],
   "source": [
    "# 다중 조건\n",
    "list(map(lambda x: str(x) if x == 1 else float(x) if x == 2 else x + 10, a))"
   ]
  },
  {
   "cell_type": "code",
   "execution_count": 11,
   "metadata": {},
   "outputs": [
    {
     "data": {
      "text/plain": [
       "[2, 8, 18, 32]"
      ]
     },
     "execution_count": 11,
     "metadata": {},
     "output_type": "execute_result"
    }
   ],
   "source": [
    "# 변수를 선언 할수는 없지만, 여러개의 객체를 사용하는 것은 가능\n",
    "a = [1, 2, 3, 4]\n",
    "b = [2, 4, 6, 8]\n",
    "\n",
    "list(map(lambda x,y:x*y, a,b))"
   ]
  },
  {
   "cell_type": "code",
   "execution_count": 12,
   "metadata": {},
   "outputs": [
    {
     "data": {
      "text/plain": [
       "[8, 7, 9]"
      ]
     },
     "execution_count": 12,
     "metadata": {},
     "output_type": "execute_result"
    }
   ],
   "source": [
    "# 반복 가능한 객체에서 특정 조건에 맞는 요소만 가져오는 filter\n",
    "a = [8, 3, 2, 10, 15, 7, 1, 9, 0, 11]\n",
    "list(filter(lambda x:x>5 and x<10, a))"
   ]
  },
  {
   "cell_type": "markdown",
   "metadata": {},
   "source": [
    "### 클로저\n",
    "#### 변수의 사용 범위\n",
    "- 지역 변수 (local var)\n",
    "- 전역 변수 (global var)"
   ]
  },
  {
   "cell_type": "code",
   "execution_count": 13,
   "metadata": {},
   "outputs": [
    {
     "name": "stdout",
     "output_type": "stream",
     "text": [
      "10\n"
     ]
    }
   ],
   "source": [
    "x = 10\n",
    "def temp():\n",
    "    print(x)\n",
    "    \n",
    "temp()"
   ]
  },
  {
   "cell_type": "code",
   "execution_count": 15,
   "metadata": {},
   "outputs": [
    {
     "name": "stdout",
     "output_type": "stream",
     "text": [
      "11\n",
      "5\n"
     ]
    }
   ],
   "source": [
    "x = 5\n",
    "def temp():\n",
    "    x = 11\n",
    "    print(x)\n",
    "\n",
    "temp()\n",
    "print(x)"
   ]
  },
  {
   "cell_type": "code",
   "execution_count": 17,
   "metadata": {},
   "outputs": [
    {
     "name": "stdout",
     "output_type": "stream",
     "text": [
      "11\n",
      "11\n"
     ]
    }
   ],
   "source": [
    "x = 5\n",
    "def temp():\n",
    "    global x\n",
    "    x = 11\n",
    "    print(x)\n",
    "\n",
    "temp()\n",
    "print(x)"
   ]
  },
  {
   "cell_type": "markdown",
   "metadata": {},
   "source": [
    "---"
   ]
  },
  {
   "cell_type": "code",
   "execution_count": 18,
   "metadata": {},
   "outputs": [
    {
     "name": "stdout",
     "output_type": "stream",
     "text": [
      "Hello, world!\n"
     ]
    }
   ],
   "source": [
    "def print_hello():\n",
    "    hello = \"Hello, world!\"\n",
    "    def print_message():\n",
    "        print(hello)\n",
    "    print_message()\n",
    "\n",
    "print_hello()"
   ]
  },
  {
   "cell_type": "code",
   "execution_count": 19,
   "metadata": {},
   "outputs": [
    {
     "ename": "NameError",
     "evalue": "name 'print_message' is not defined",
     "output_type": "error",
     "traceback": [
      "\u001b[1;31m---------------------------------------------------------------------------\u001b[0m",
      "\u001b[1;31mNameError\u001b[0m                                 Traceback (most recent call last)",
      "\u001b[1;32md:\\AISCHOOL7\\Begins_with_a_single_step\\01_Python_Basic\\python_class_module.ipynb 셀 18\u001b[0m in \u001b[0;36m<cell line: 1>\u001b[1;34m()\u001b[0m\n\u001b[1;32m----> <a href='vscode-notebook-cell:/d%3A/AISCHOOL7/Begins_with_a_single_step/01_Python_Basic/python_class_module.ipynb#X41sZmlsZQ%3D%3D?line=0'>1</a>\u001b[0m print_message()\n",
      "\u001b[1;31mNameError\u001b[0m: name 'print_message' is not defined"
     ]
    }
   ],
   "source": [
    "print_message()"
   ]
  },
  {
   "cell_type": "code",
   "execution_count": 20,
   "metadata": {},
   "outputs": [
    {
     "name": "stdout",
     "output_type": "stream",
     "text": [
      "10\n"
     ]
    }
   ],
   "source": [
    "def func_a():\n",
    "    x = 10 # func_a local var\n",
    "    def func_b():\n",
    "        x = 20\n",
    "    func_b()\n",
    "    print(x)\n",
    "\n",
    "func_a()"
   ]
  },
  {
   "cell_type": "markdown",
   "metadata": {},
   "source": [
    "같은 이름의 지역 변수가 생성된거기 때문"
   ]
  },
  {
   "cell_type": "code",
   "execution_count": 21,
   "metadata": {},
   "outputs": [
    {
     "name": "stdout",
     "output_type": "stream",
     "text": [
      "20\n"
     ]
    }
   ],
   "source": [
    "def func_a():\n",
    "    x = 10 # func_a local var\n",
    "    def func_b():\n",
    "        nonlocal x # func_a's local var\n",
    "        x = 20\n",
    "    func_b()\n",
    "    print(x)\n",
    "\n",
    "func_a()"
   ]
  },
  {
   "cell_type": "markdown",
   "metadata": {},
   "source": [
    "---"
   ]
  },
  {
   "cell_type": "code",
   "execution_count": 22,
   "metadata": {},
   "outputs": [
    {
     "data": {
      "text/plain": [
       "8"
      ]
     },
     "execution_count": 22,
     "metadata": {},
     "output_type": "execute_result"
    }
   ],
   "source": [
    "def calc():\n",
    "    a, b = 3, 5\n",
    "    def mul_add(x):\n",
    "        return a*x+b\n",
    "    return mul_add\n",
    "\n",
    "c = calc()\n",
    "\n",
    "c(1)"
   ]
  },
  {
   "cell_type": "markdown",
   "metadata": {},
   "source": [
    "함수를 둘러싼 환경(지역 변수, 코드 등)을 계속 유지하다가, 함수를 호출할 때 다시 꺼내서 사용하는 함수  \n",
    "-> 클로저(closure)  \n",
    "-> 지역 변수와 코드를 묶어서 사용하고 싶을 때 활용  \n",
    "-> **캡슐화, 은닉 ...**\n",
    "\n",
    "#### OOP\n",
    "1. 추상화 (abstraction)\n",
    "    - 공통적 특징\n",
    "    - 클래스를 정의하는 행위\n",
    "2. 캡슐화 (encapsulation, 은닉화)\n",
    "    - 정보를 은닉\n",
    "    - 데이터와 기능을 묶는 행위\n",
    "3. 상속성 (inheritance)\n",
    "4. 다향성 (polymorhism)\n",
    "    - 오버라이딩(overriding): 내부 소스 코드만 재정의\n",
    "    - 오버로딩(overloading): 매개변수가 다른, 같은 이름의 함수를 재정의\n",
    "5. 동적 바이딩 (Dynamic Binding)"
   ]
  },
  {
   "cell_type": "markdown",
   "metadata": {},
   "source": [
    "### 클래스\n",
    "객체(object): 특정 개념이나 모양으로 존재하는 것  \n",
    "속성(attribute): 데이터  \n",
    "메서드(method): 동작  \n",
    "\n",
    "\n",
    "```python\n",
    "class 클래스이름:\n",
    "    def 메서드(self):\n",
    "        코드\n",
    "```"
   ]
  },
  {
   "cell_type": "code",
   "execution_count": 23,
   "metadata": {},
   "outputs": [],
   "source": [
    "class BurnMold:\n",
    "    def info(self):\n",
    "        print(\"붕어빵 틀입니다\")"
   ]
  },
  {
   "cell_type": "code",
   "execution_count": 24,
   "metadata": {},
   "outputs": [
    {
     "name": "stdout",
     "output_type": "stream",
     "text": [
      "붕어빵 틀입니다\n"
     ]
    }
   ],
   "source": [
    "# 인스턴스(instance)\n",
    "mold = BurnMold()\n",
    "\n",
    "mold.info()"
   ]
  },
  {
   "cell_type": "code",
   "execution_count": 25,
   "metadata": {},
   "outputs": [
    {
     "data": {
      "text/plain": [
       "True"
      ]
     },
     "execution_count": 25,
     "metadata": {},
     "output_type": "execute_result"
    }
   ],
   "source": [
    "isinstance(mold, BurnMold)"
   ]
  },
  {
   "cell_type": "code",
   "execution_count": 26,
   "metadata": {},
   "outputs": [],
   "source": [
    "# 속성 만들기\n",
    "class BurnMold:\n",
    "    def __init__(self):\n",
    "        self.moldname = \"붕어빵 틀\"\n",
    "    def mold_info(self):\n",
    "        print(self.moldname)"
   ]
  },
  {
   "cell_type": "code",
   "execution_count": 27,
   "metadata": {},
   "outputs": [
    {
     "name": "stdout",
     "output_type": "stream",
     "text": [
      "붕어빵 틀\n"
     ]
    }
   ],
   "source": [
    "mold = BurnMold()\n",
    "\n",
    "mold.mold_info()"
   ]
  },
  {
   "cell_type": "code",
   "execution_count": 33,
   "metadata": {},
   "outputs": [],
   "source": [
    "class BurnMold:\n",
    "    def __init__(self, ingredient=\"팥\", location=\"집 앞\"):\n",
    "        self.moldname = \"붕어빵 틀\"\n",
    "        self.ingredient = ingredient\n",
    "        self.location = location\n",
    "    def mold_info(self):\n",
    "        print(f\"이 빵은, {self.moldname}에서 {self.ingredient}을(를) 넣고 {self.location}에서 만들었습니다\")"
   ]
  },
  {
   "cell_type": "code",
   "execution_count": 34,
   "metadata": {},
   "outputs": [
    {
     "name": "stdout",
     "output_type": "stream",
     "text": [
      "이 빵은, 붕어빵 틀에서 팥을(를) 넣고 집 앞에서 만들었습니다\n",
      "이 빵은, 붕어빵 틀에서 슈크림을(를) 넣고 집 앞에서 만들었습니다\n",
      "이 빵은, 붕어빵 틀에서 아이스크림을(를) 넣고 집 앞에서 만들었습니다\n",
      "이 빵은, 붕어빵 틀에서 바닐라 아이크림을(를) 넣고 신당동에서 만들었습니다\n",
      "이 빵은, 붕어빵 틀에서 팥을(를) 넣고 신당동에서 만들었습니다\n"
     ]
    }
   ],
   "source": [
    "burn1 = BurnMold()\n",
    "burn2 = BurnMold(\"슈크림\")\n",
    "burn3 = BurnMold(ingredient=\"아이스크림\")\n",
    "burn4 = BurnMold(\"바닐라 아이크림\", \"신당동\")\n",
    "burn5 = BurnMold(location=\"신당동\")\n",
    "\n",
    "burn1.mold_info()\n",
    "burn2.mold_info()\n",
    "burn3.mold_info()\n",
    "burn4.mold_info()\n",
    "burn5.mold_info()"
   ]
  },
  {
   "cell_type": "code",
   "execution_count": 36,
   "metadata": {},
   "outputs": [
    {
     "data": {
      "text/plain": [
       "('붕어빵 틀', '팥', '집 앞')"
      ]
     },
     "execution_count": 36,
     "metadata": {},
     "output_type": "execute_result"
    }
   ],
   "source": [
    "burn1.moldname, burn1.ingredient, burn1.location"
   ]
  },
  {
   "cell_type": "code",
   "execution_count": 39,
   "metadata": {},
   "outputs": [],
   "source": [
    "# private\n",
    "class BurnMold:\n",
    "    def __init__(self, ingredient=\"팥\", location=\"집 앞\"):\n",
    "        self.__moldname = \"붕어빵 틀\"\n",
    "        self.__ingredient = ingredient\n",
    "        self.__location = location\n",
    "    def mold_info(self):\n",
    "        print(f\"이 빵은, {self.__moldname}에서 {self.__ingredient}을(를) 넣고 {self.__location}에서 만들었습니다\")"
   ]
  },
  {
   "cell_type": "code",
   "execution_count": 40,
   "metadata": {},
   "outputs": [
    {
     "name": "stdout",
     "output_type": "stream",
     "text": [
      "이 빵은, 붕어빵 틀에서 팥을(를) 넣고 집 앞에서 만들었습니다\n"
     ]
    }
   ],
   "source": [
    "burn = BurnMold()\n",
    "\n",
    "burn.mold_info()"
   ]
  },
  {
   "cell_type": "code",
   "execution_count": 41,
   "metadata": {},
   "outputs": [
    {
     "ename": "AttributeError",
     "evalue": "'BurnMold' object has no attribute '__moldname'",
     "output_type": "error",
     "traceback": [
      "\u001b[1;31m---------------------------------------------------------------------------\u001b[0m",
      "\u001b[1;31mAttributeError\u001b[0m                            Traceback (most recent call last)",
      "\u001b[1;32md:\\AISCHOOL7\\Begins_with_a_single_step\\01_Python_Basic\\python_class_module.ipynb 셀 36\u001b[0m in \u001b[0;36m<cell line: 1>\u001b[1;34m()\u001b[0m\n\u001b[1;32m----> <a href='vscode-notebook-cell:/d%3A/AISCHOOL7/Begins_with_a_single_step/01_Python_Basic/python_class_module.ipynb#Y100sZmlsZQ%3D%3D?line=0'>1</a>\u001b[0m burn\u001b[39m.\u001b[39;49m__moldname\n",
      "\u001b[1;31mAttributeError\u001b[0m: 'BurnMold' object has no attribute '__moldname'"
     ]
    }
   ],
   "source": [
    "burn.__moldname"
   ]
  },
  {
   "cell_type": "markdown",
   "metadata": {},
   "source": [
    "### 클래스 속성과 정적, 클래스 메서드\n",
    "#### 정적 메서드"
   ]
  },
  {
   "cell_type": "code",
   "execution_count": 42,
   "metadata": {},
   "outputs": [],
   "source": [
    "class BurnMold:\n",
    "    def __init__(self, ingredient=\"팥\", location=\"집 앞\"):\n",
    "        self.__moldname = \"붕어빵 틀\"\n",
    "        self.__ingredient = ingredient\n",
    "        self.__location = location\n",
    "    def mold_info(self):\n",
    "        print(f\"이 빵은, {self.__moldname}에서 {self.__ingredient}을(를) 넣고 {self.__location}에서 만들었습니다\")\n",
    "    @staticmethod\n",
    "    def Manufacturer():\n",
    "        print(\"이지쿠거\")"
   ]
  },
  {
   "cell_type": "code",
   "execution_count": 43,
   "metadata": {},
   "outputs": [
    {
     "name": "stdout",
     "output_type": "stream",
     "text": [
      "이 빵은, 붕어빵 틀에서 팥을(를) 넣고 집 앞에서 만들었습니다\n"
     ]
    }
   ],
   "source": [
    "burn = BurnMold()\n",
    "burn.mold_info()"
   ]
  },
  {
   "cell_type": "code",
   "execution_count": 44,
   "metadata": {},
   "outputs": [
    {
     "name": "stdout",
     "output_type": "stream",
     "text": [
      "이지쿠거\n"
     ]
    }
   ],
   "source": [
    "burn.Manufacturer()"
   ]
  },
  {
   "cell_type": "markdown",
   "metadata": {},
   "source": [
    "#### 클래스 메서드"
   ]
  },
  {
   "cell_type": "code",
   "execution_count": 46,
   "metadata": {},
   "outputs": [],
   "source": [
    "class BurnMold:\n",
    "    count = 0 # 클래스 속성\n",
    "    def __init__(self, ingredient=\"팥\", location=\"집 앞\"):\n",
    "        self.__moldname = \"붕어빵 틀\"\n",
    "        self.__ingredient = ingredient\n",
    "        self.__location = location\n",
    "        BurnMold.count += 1\n",
    "    def mold_info(self):\n",
    "        print(f\"이 빵은, {self.__moldname}에서 {self.__ingredient}을(를) 넣고 {self.__location}에서 만들었습니다\")\n",
    "    @staticmethod\n",
    "    def Manufacturer():\n",
    "        print(\"이지쿠거\")\n",
    "    def count_burn(self):\n",
    "        print(f\"{self.count}개의 붕어빵을 만들었습니다\")"
   ]
  },
  {
   "cell_type": "code",
   "execution_count": 47,
   "metadata": {},
   "outputs": [
    {
     "name": "stdout",
     "output_type": "stream",
     "text": [
      "1개의 붕어빵을 만들었습니다\n",
      "2개의 붕어빵을 만들었습니다\n",
      "3개의 붕어빵을 만들었습니다\n",
      "4개의 붕어빵을 만들었습니다\n",
      "5개의 붕어빵을 만들었습니다\n"
     ]
    }
   ],
   "source": [
    "burn1 = BurnMold()\n",
    "burn1.count_burn()\n",
    "burn2 = BurnMold(\"슈크림\")\n",
    "burn2.count_burn()\n",
    "burn3 = BurnMold(ingredient=\"아이스크림\")\n",
    "burn3.count_burn()\n",
    "burn4 = BurnMold(\"바닐라 아이크림\", \"신당동\")\n",
    "burn4.count_burn()\n",
    "burn5 = BurnMold(location=\"신당동\")\n",
    "burn5.count_burn()"
   ]
  },
  {
   "cell_type": "code",
   "execution_count": 48,
   "metadata": {},
   "outputs": [],
   "source": [
    "class BurnMold:\n",
    "    count = 0 # 클래스 속성\n",
    "    def __init__(self, ingredient=\"팥\", location=\"집 앞\"):\n",
    "        self.__moldname = \"붕어빵 틀\"\n",
    "        self.__ingredient = ingredient\n",
    "        self.__location = location\n",
    "        BurnMold.count += 1\n",
    "    def mold_info(self):\n",
    "        print(f\"이 빵은, {self.__moldname}에서 {self.__ingredient}을(를) 넣고 {self.__location}에서 만들었습니다\")\n",
    "    @staticmethod\n",
    "    def Manufacturer():\n",
    "        print(\"이지쿠거\")\n",
    "    @classmethod\n",
    "    def count_burn(cls):\n",
    "        print(f\"{cls.count}개의 붕어빵을 만들었습니다\")"
   ]
  },
  {
   "cell_type": "code",
   "execution_count": 49,
   "metadata": {},
   "outputs": [
    {
     "name": "stdout",
     "output_type": "stream",
     "text": [
      "1개의 붕어빵을 만들었습니다\n",
      "2개의 붕어빵을 만들었습니다\n",
      "3개의 붕어빵을 만들었습니다\n",
      "4개의 붕어빵을 만들었습니다\n",
      "5개의 붕어빵을 만들었습니다\n"
     ]
    }
   ],
   "source": [
    "burn1 = BurnMold()\n",
    "burn1.count_burn()\n",
    "burn2 = BurnMold(\"슈크림\")\n",
    "burn2.count_burn()\n",
    "burn3 = BurnMold(ingredient=\"아이스크림\")\n",
    "burn3.count_burn()\n",
    "burn4 = BurnMold(\"바닐라 아이크림\", \"신당동\")\n",
    "burn4.count_burn()\n",
    "burn5 = BurnMold(location=\"신당동\")\n",
    "burn5.count_burn()"
   ]
  },
  {
   "cell_type": "markdown",
   "metadata": {},
   "source": [
    "### 클래스 상속\n",
    "- 부모 <-> 자식 (parent <-> child)\n",
    "- 슈퍼 <-> 서브 (super <-> sub)\n",
    "- ..."
   ]
  },
  {
   "cell_type": "code",
   "execution_count": 52,
   "metadata": {},
   "outputs": [],
   "source": [
    "class Person:\n",
    "    def __init__(self):\n",
    "        print(\"Person __init__\")\n",
    "        self.hello = \"안녕하세요\"\n",
    "\n",
    "class Student(Person):\n",
    "    def __init__(self):\n",
    "        print(\"Student __init__\")\n",
    "        self.school = \"AIS 7\""
   ]
  },
  {
   "cell_type": "code",
   "execution_count": 54,
   "metadata": {},
   "outputs": [
    {
     "name": "stdout",
     "output_type": "stream",
     "text": [
      "Student __init__\n"
     ]
    },
    {
     "ename": "AttributeError",
     "evalue": "'Student' object has no attribute 'hello'",
     "output_type": "error",
     "traceback": [
      "\u001b[1;31m---------------------------------------------------------------------------\u001b[0m",
      "\u001b[1;31mAttributeError\u001b[0m                            Traceback (most recent call last)",
      "\u001b[1;32md:\\AISCHOOL7\\Begins_with_a_single_step\\01_Python_Basic\\python_class_module.ipynb 셀 48\u001b[0m in \u001b[0;36m<cell line: 3>\u001b[1;34m()\u001b[0m\n\u001b[0;32m      <a href='vscode-notebook-cell:/d%3A/AISCHOOL7/Begins_with_a_single_step/01_Python_Basic/python_class_module.ipynb#Y114sZmlsZQ%3D%3D?line=0'>1</a>\u001b[0m s \u001b[39m=\u001b[39m Student()\n\u001b[1;32m----> <a href='vscode-notebook-cell:/d%3A/AISCHOOL7/Begins_with_a_single_step/01_Python_Basic/python_class_module.ipynb#Y114sZmlsZQ%3D%3D?line=2'>3</a>\u001b[0m \u001b[39mprint\u001b[39m(s\u001b[39m.\u001b[39;49mhello)\n\u001b[0;32m      <a href='vscode-notebook-cell:/d%3A/AISCHOOL7/Begins_with_a_single_step/01_Python_Basic/python_class_module.ipynb#Y114sZmlsZQ%3D%3D?line=3'>4</a>\u001b[0m \u001b[39mprint\u001b[39m(s\u001b[39m.\u001b[39mschool)\n",
      "\u001b[1;31mAttributeError\u001b[0m: 'Student' object has no attribute 'hello'"
     ]
    }
   ],
   "source": [
    "s = Student()\n",
    "\n",
    "print(s.hello)\n",
    "print(s.school)"
   ]
  },
  {
   "cell_type": "code",
   "execution_count": 57,
   "metadata": {},
   "outputs": [],
   "source": [
    "class Person:\n",
    "    def __init__(self):\n",
    "        print(\"Person __init__\")\n",
    "        self.hello = \"안녕하세요\"\n",
    "\n",
    "class Student(Person):\n",
    "    def __init__(self):\n",
    "        print(\"Student __init__\")\n",
    "        super().__init__()\n",
    "        self.school = \"AIS 7\""
   ]
  },
  {
   "cell_type": "code",
   "execution_count": 58,
   "metadata": {},
   "outputs": [
    {
     "name": "stdout",
     "output_type": "stream",
     "text": [
      "Student __init__\n",
      "Person __init__\n",
      "안녕하세요\n",
      "AIS 7\n"
     ]
    }
   ],
   "source": [
    "s = Student()\n",
    "\n",
    "print(s.hello)\n",
    "print(s.school)"
   ]
  },
  {
   "cell_type": "code",
   "execution_count": 61,
   "metadata": {},
   "outputs": [],
   "source": [
    "# 오버라이딩\n",
    "class Person:\n",
    "    def __init__(self):\n",
    "        # print(\"Person __init__\")\n",
    "        self.hello = \"안녕하세요\"\n",
    "    def info(self):\n",
    "        print(\"사람입니다\")\n",
    "\n",
    "class Student(Person):\n",
    "    def __init__(self):\n",
    "        # print(\"Student __init__\")\n",
    "        super().__init__()\n",
    "        self.school = \"AIS 7\"\n",
    "    def info(self):\n",
    "        print(\"학생입니다\")"
   ]
  },
  {
   "cell_type": "code",
   "execution_count": 62,
   "metadata": {},
   "outputs": [
    {
     "name": "stdout",
     "output_type": "stream",
     "text": [
      "학생입니다\n"
     ]
    }
   ],
   "source": [
    "s = Student()\n",
    "\n",
    "s.info()"
   ]
  },
  {
   "cell_type": "markdown",
   "metadata": {},
   "source": [
    "다중 클래스, 추상 클래스는 다루지 않음  \n",
    "추상 클래스는 메서드의 목록만 갖고 구현은 상속 받은 클래스에게 강제됨"
   ]
  },
  {
   "cell_type": "markdown",
   "metadata": {},
   "source": [
    "### 예외처리\n",
    "```python\n",
    "try:\n",
    "    실행할 코드\n",
    "except:\n",
    "    예외가 발생했을 때 처리하는 코드\n",
    "```"
   ]
  },
  {
   "cell_type": "code",
   "execution_count": 4,
   "metadata": {},
   "outputs": [
    {
     "name": "stdout",
     "output_type": "stream",
     "text": [
      "0.2 0.5 "
     ]
    },
    {
     "ename": "ZeroDivisionError",
     "evalue": "division by zero",
     "output_type": "error",
     "traceback": [
      "\u001b[1;31m---------------------------------------------------------------------------\u001b[0m",
      "\u001b[1;31mZeroDivisionError\u001b[0m                         Traceback (most recent call last)",
      "\u001b[1;32md:\\AISCHOOL7\\Begins_with_a_single_step\\01_Python_Basic\\python_class_module.ipynb 셀 55\u001b[0m in \u001b[0;36m<cell line: 4>\u001b[1;34m()\u001b[0m\n\u001b[0;32m      <a href='vscode-notebook-cell:/d%3A/AISCHOOL7/Begins_with_a_single_step/01_Python_Basic/python_class_module.ipynb#Y112sZmlsZQ%3D%3D?line=1'>2</a>\u001b[0m list2 \u001b[39m=\u001b[39m [\u001b[39m5\u001b[39m, \u001b[39m4\u001b[39m, \u001b[39m0\u001b[39m, \u001b[39m0\u001b[39m, \u001b[39m5\u001b[39m]\n\u001b[0;32m      <a href='vscode-notebook-cell:/d%3A/AISCHOOL7/Begins_with_a_single_step/01_Python_Basic/python_class_module.ipynb#Y112sZmlsZQ%3D%3D?line=3'>4</a>\u001b[0m \u001b[39mfor\u001b[39;00m e1, e2 \u001b[39min\u001b[39;00m \u001b[39mzip\u001b[39m(list1, list2):\n\u001b[1;32m----> <a href='vscode-notebook-cell:/d%3A/AISCHOOL7/Begins_with_a_single_step/01_Python_Basic/python_class_module.ipynb#Y112sZmlsZQ%3D%3D?line=4'>5</a>\u001b[0m     \u001b[39mprint\u001b[39m(e1\u001b[39m/\u001b[39;49me2, end\u001b[39m=\u001b[39m\u001b[39m\"\u001b[39m\u001b[39m \u001b[39m\u001b[39m\"\u001b[39m)\n",
      "\u001b[1;31mZeroDivisionError\u001b[0m: division by zero"
     ]
    }
   ],
   "source": [
    "list1 = [1, 2, 3, 4, 5]\n",
    "list2 = [5, 4, 0, 0, 5]\n",
    "\n",
    "for e1, e2 in zip(list1, list2):\n",
    "    print(e1/e2, end=\" \")"
   ]
  },
  {
   "cell_type": "code",
   "execution_count": 5,
   "metadata": {},
   "outputs": [
    {
     "name": "stdout",
     "output_type": "stream",
     "text": [
      "0.2 0.5 err err 1.0 "
     ]
    }
   ],
   "source": [
    "list1 = [1, 2, 3, 4, 5]\n",
    "list2 = [5, 4, 0, 0, 5]\n",
    "\n",
    "for e1, e2 in zip(list1, list2):\n",
    "    try:\n",
    "        print(e1/e2, end=\" \")\n",
    "    except:\n",
    "        print(\"err\", end=\" \")"
   ]
  },
  {
   "cell_type": "code",
   "execution_count": 8,
   "metadata": {},
   "outputs": [
    {
     "name": "stdout",
     "output_type": "stream",
     "text": [
      "0.2 0.5 division by zero division by zero 1.0 "
     ]
    }
   ],
   "source": [
    "list1 = [1, 2, 3, 4, 5]\n",
    "list2 = [5, 4, 0, 0, 5]\n",
    "\n",
    "for e1, e2 in zip(list1, list2):\n",
    "    try:\n",
    "        print(e1/e2, end=\" \")\n",
    "    except ZeroDivisionError as ZD:\n",
    "        print(ZD, end=\" \")"
   ]
  },
  {
   "cell_type": "markdown",
   "metadata": {},
   "source": [
    "```python\n",
    "try:\n",
    "    실행할 코드\n",
    "except:\n",
    "    예외가 발생했을 때 처리하는 코드\n",
    "else:\n",
    "    예외가 발생하지 않을 때 실행할 코드\n",
    "```"
   ]
  },
  {
   "cell_type": "code",
   "execution_count": 11,
   "metadata": {},
   "outputs": [
    {
     "name": "stdout",
     "output_type": "stream",
     "text": [
      "0.2 0.5 1.0 "
     ]
    }
   ],
   "source": [
    "list1 = [1, 2, 3, 4, 5]\n",
    "list2 = [5, 4, 0, 0, 5]\n",
    "\n",
    "for e1, e2 in zip(list1, list2):\n",
    "    try:\n",
    "        result = e1/e2\n",
    "    except ZeroDivisionError as ZD:\n",
    "        result = ZD\n",
    "    else:\n",
    "        print(result, end=\" \")"
   ]
  },
  {
   "cell_type": "markdown",
   "metadata": {},
   "source": [
    "```python\n",
    "try:\n",
    "    실행할 코드\n",
    "except:\n",
    "    예외가 발생했을 때 처리하는 코드\n",
    "else:\n",
    "    예외가 발생하지 않을 때 실행할 코드\n",
    "finally:\n",
    "    예외 발생 여부와 상관 없이 항상 실행할 코드\n",
    "```"
   ]
  },
  {
   "cell_type": "code",
   "execution_count": 15,
   "metadata": {},
   "outputs": [
    {
     "name": "stdout",
     "output_type": "stream",
     "text": [
      "0.2 : 실행된 횟수(0)/0.5 : 실행된 횟수(1)/1.0 : 실행된 횟수(4)/"
     ]
    }
   ],
   "source": [
    "list1 = [1, 2, 3, 4, 5]\n",
    "list2 = [5, 4, 0, 0, 5]\n",
    "idx = 0\n",
    "\n",
    "for e1, e2 in zip(list1, list2):\n",
    "    try:\n",
    "        result = e1/e2\n",
    "    except ZeroDivisionError as ZD:\n",
    "        result = ZD\n",
    "    else:\n",
    "        print(f\"{result} : 실행된 횟수({idx})\", end=\"/\")\n",
    "    finally:\n",
    "        idx += 1"
   ]
  },
  {
   "cell_type": "markdown",
   "metadata": {},
   "source": [
    "##### 예외 발생 시키기"
   ]
  },
  {
   "cell_type": "code",
   "execution_count": 17,
   "metadata": {},
   "outputs": [
    {
     "name": "stdout",
     "output_type": "stream",
     "text": [
      "3\n"
     ]
    }
   ],
   "source": [
    "try:\n",
    "    x = int(input('3의 배수를 입력하세요: '))\n",
    "    if x % 3 != 0:                                 # x가 3의 배수가 아니면\n",
    "        raise Exception('3의 배수가 아닙니다.')    # 예외를 발생시킴\n",
    "    print(x)\n",
    "except Exception as e:                             # 예외가 발생했을 때 실행됨\n",
    "    print('예외가 발생했습니다.', e)"
   ]
  },
  {
   "cell_type": "markdown",
   "metadata": {},
   "source": [
    "### 모듈과 패키지\n",
    "모듈(module)은 각종 변수, 함수, 클래스를 담고 있는 파일이고, 패키지(package)는 여러 모듈을 묶은 것"
   ]
  },
  {
   "cell_type": "code",
   "execution_count": 27,
   "metadata": {},
   "outputs": [
    {
     "data": {
      "text/plain": [
       "8"
      ]
     },
     "execution_count": 27,
     "metadata": {},
     "output_type": "execute_result"
    }
   ],
   "source": [
    "from calc import Calculator as c\n",
    "\n",
    "c.add(5, 3)"
   ]
  },
  {
   "cell_type": "code",
   "execution_count": 28,
   "metadata": {},
   "outputs": [
    {
     "data": {
      "text/plain": [
       "'__main__'"
      ]
     },
     "execution_count": 28,
     "metadata": {},
     "output_type": "execute_result"
    }
   ],
   "source": [
    "__name__"
   ]
  }
 ],
 "metadata": {
  "kernelspec": {
   "display_name": "Python 3.9.12 64-bit",
   "language": "python",
   "name": "python3"
  },
  "language_info": {
   "codemirror_mode": {
    "name": "ipython",
    "version": 3
   },
   "file_extension": ".py",
   "mimetype": "text/x-python",
   "name": "python",
   "nbconvert_exporter": "python",
   "pygments_lexer": "ipython3",
   "version": "3.9.12"
  },
  "orig_nbformat": 4,
  "vscode": {
   "interpreter": {
    "hash": "ca7051211f7d0cb84f9a5276aced427e23f2f109de898d0e63a1c129a12d67d5"
   }
  }
 },
 "nbformat": 4,
 "nbformat_minor": 2
}
