{
 "cells": [
  {
   "cell_type": "markdown",
   "metadata": {},
   "source": [
    "# 파이썬 연습 문제\n",
    "[출처: 점프 투 파이썬](https://wikidocs.net/book/1)\n",
    "\n",
    "### Q1. 클래스와 상속\n",
    "다음 클래스를 상속해 값을 뺄 수 있는 `sub` 메서드를 추가"
   ]
  },
  {
   "cell_type": "code",
   "execution_count": 1,
   "metadata": {},
   "outputs": [],
   "source": [
    "class Calculator:\n",
    "    def __init__(self):\n",
    "        self.val = 0\n",
    "    def add(self, val):\n",
    "        self.val += val"
   ]
  },
  {
   "cell_type": "code",
   "execution_count": 2,
   "metadata": {},
   "outputs": [],
   "source": [
    "class UpgradeCalculator(Calculator):\n",
    "    def sub(self, val):\n",
    "        self.val -= val"
   ]
  },
  {
   "cell_type": "code",
   "execution_count": 3,
   "metadata": {},
   "outputs": [
    {
     "data": {
      "text/plain": [
       "3"
      ]
     },
     "execution_count": 3,
     "metadata": {},
     "output_type": "execute_result"
    }
   ],
   "source": [
    "cal = UpgradeCalculator()\n",
    "cal.add(10)\n",
    "cal.sub(7)\n",
    "\n",
    "cal.val"
   ]
  },
  {
   "cell_type": "markdown",
   "metadata": {},
   "source": [
    "### Q2. 클래스와 상속\n",
    "다음 클래스를 상속해, 객체 변수(`val`)가 100 이상의 값은 가질 수 없도록 제안하는 새로운 클래스 만들기"
   ]
  },
  {
   "cell_type": "code",
   "execution_count": 4,
   "metadata": {},
   "outputs": [],
   "source": [
    "class Calculator:\n",
    "    def __init__(self):\n",
    "        self.val = 0\n",
    "    def add(self, val):\n",
    "        self.val += val"
   ]
  },
  {
   "cell_type": "code",
   "execution_count": 6,
   "metadata": {},
   "outputs": [],
   "source": [
    "class MaxLimitCalculator(Calculator):\n",
    "    def add(self, val):\n",
    "        self.val += val\n",
    "        if self.val>=100:\n",
    "            self.val = 100"
   ]
  },
  {
   "cell_type": "code",
   "execution_count": 7,
   "metadata": {},
   "outputs": [
    {
     "data": {
      "text/plain": [
       "100"
      ]
     },
     "execution_count": 7,
     "metadata": {},
     "output_type": "execute_result"
    }
   ],
   "source": [
    "cal = MaxLimitCalculator()\n",
    "cal.add(50)\n",
    "cal.add(60)\n",
    "\n",
    "cal.val"
   ]
  },
  {
   "cell_type": "markdown",
   "metadata": {},
   "source": [
    "### Q3. filter와 lambda를 이용해 음수 제거하기\n",
    "list = [1, -2, 3, -5, 8, -3]"
   ]
  },
  {
   "cell_type": "code",
   "execution_count": 9,
   "metadata": {},
   "outputs": [
    {
     "data": {
      "text/plain": [
       "[1, 3, 8]"
      ]
     },
     "execution_count": 9,
     "metadata": {},
     "output_type": "execute_result"
    }
   ],
   "source": [
    "l = [1, -2, 3, -5, 8, -3]\n",
    "list(filter(lambda x : x>0, l))"
   ]
  }
 ],
 "metadata": {
  "kernelspec": {
   "display_name": "Python 3.9.12 64-bit",
   "language": "python",
   "name": "python3"
  },
  "language_info": {
   "codemirror_mode": {
    "name": "ipython",
    "version": 3
   },
   "file_extension": ".py",
   "mimetype": "text/x-python",
   "name": "python",
   "nbconvert_exporter": "python",
   "pygments_lexer": "ipython3",
   "version": "3.9.12"
  },
  "orig_nbformat": 4,
  "vscode": {
   "interpreter": {
    "hash": "ca7051211f7d0cb84f9a5276aced427e23f2f109de898d0e63a1c129a12d67d5"
   }
  }
 },
 "nbformat": 4,
 "nbformat_minor": 2
}
