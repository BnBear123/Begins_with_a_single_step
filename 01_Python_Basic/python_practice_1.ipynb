{
 "cells": [
  {
   "cell_type": "markdown",
   "metadata": {},
   "source": [
    "# 파이썬 연습 문제\n",
    "[출처: 점프 투 파이썬](https://wikidocs.net/book/1)\n",
    "\n",
    "### 1. 자료형\n",
    "##### Q1. 평균 점수 구하기\n",
    "| 과목 | 점수 |\n",
    "| :---: | :---: |\n",
    "| 국어 | 80 |\n",
    "| 영어 | 75 |\n",
    "| 수학 | 55 |"
   ]
  },
  {
   "cell_type": "code",
   "execution_count": 2,
   "metadata": {},
   "outputs": [
    {
     "name": "stdout",
     "output_type": "stream",
     "text": [
      "70.0\n"
     ]
    }
   ],
   "source": [
    "score = [80, 75, 55]\n",
    "\n",
    "print(sum(score)/len(score))"
   ]
  },
  {
   "cell_type": "markdown",
   "metadata": {},
   "source": [
    "##### Q2. 입력한 숫자가 홀수(혹은 짝수)인지 판별하는 코드 작성"
   ]
  },
  {
   "cell_type": "code",
   "execution_count": 3,
   "metadata": {},
   "outputs": [
    {
     "name": "stdout",
     "output_type": "stream",
     "text": [
      "짝수입니다\n"
     ]
    }
   ],
   "source": [
    "user_input  = int(input())\n",
    "\n",
    "if user_input%2==0: print(\"짝수입니다\")\n",
    "else: print(\"홀수입니다\")"
   ]
  },
  {
   "cell_type": "markdown",
   "metadata": {},
   "source": [
    "##### Q3. 문자열 슬라이싱 사용하기\n",
    "주민번호 881120-1068234에서, 연월일(YYMMDD) 부분과 그 뒤의 숫자 부분으로 나누어 출력하기"
   ]
  },
  {
   "cell_type": "code",
   "execution_count": 4,
   "metadata": {},
   "outputs": [
    {
     "name": "stdout",
     "output_type": "stream",
     "text": [
      "881120 1068234\n"
     ]
    }
   ],
   "source": [
    "id = \"881120-1068234\"\n",
    "ymd, postfix = id.split(\"-\")\n",
    "print(ymd, postfix)"
   ]
  },
  {
   "cell_type": "markdown",
   "metadata": {},
   "source": [
    "##### Q4. 주민등록번호에서 성별을 타나내는 숫자만 출력하기"
   ]
  },
  {
   "cell_type": "code",
   "execution_count": 7,
   "metadata": {},
   "outputs": [
    {
     "data": {
      "text/plain": [
       "1"
      ]
     },
     "execution_count": 7,
     "metadata": {},
     "output_type": "execute_result"
    }
   ],
   "source": [
    "int(id[7])"
   ]
  },
  {
   "cell_type": "markdown",
   "metadata": {},
   "source": [
    "##### Q5. a:b:c:d -> a#b#c#d로 바꾸기"
   ]
  },
  {
   "cell_type": "code",
   "execution_count": 10,
   "metadata": {},
   "outputs": [
    {
     "data": {
      "text/plain": [
       "'a#b#c#d'"
      ]
     },
     "execution_count": 10,
     "metadata": {},
     "output_type": "execute_result"
    }
   ],
   "source": [
    "s = \"a:b:c:d\"\n",
    "s = s.replace(\":\", \"#\")\n",
    "s"
   ]
  },
  {
   "cell_type": "markdown",
   "metadata": {},
   "source": [
    "##### Q6. [1, 3, 5, 4, 2] 리스트를 [5, 4, 3, 2, 1]로 바꾸기 (역순 정렬)"
   ]
  },
  {
   "cell_type": "code",
   "execution_count": 12,
   "metadata": {},
   "outputs": [
    {
     "data": {
      "text/plain": [
       "[5, 4, 3, 2, 1]"
      ]
     },
     "execution_count": 12,
     "metadata": {},
     "output_type": "execute_result"
    }
   ],
   "source": [
    "l =  [1, 3, 5, 4,2]\n",
    "l.sort(reverse=True)\n",
    "l"
   ]
  },
  {
   "cell_type": "markdown",
   "metadata": {},
   "source": [
    "##### Q7. [\"Life\", \"is\", \"too\", \"short\"] 리스트를 이용해 \"Life it too short\" 문장 만들기"
   ]
  },
  {
   "cell_type": "code",
   "execution_count": 24,
   "metadata": {},
   "outputs": [
    {
     "data": {
      "text/plain": [
       "'Life is too short'"
      ]
     },
     "execution_count": 24,
     "metadata": {},
     "output_type": "execute_result"
    }
   ],
   "source": [
    "s = [\"Life\", \"is\", \"too\", \"short\"]\n",
    "\n",
    "\" \".join(s)"
   ]
  },
  {
   "cell_type": "markdown",
   "metadata": {},
   "source": [
    "##### Q8. (1, 2, 3) 튜플에 새로운 값 추가하기"
   ]
  },
  {
   "cell_type": "code",
   "execution_count": 35,
   "metadata": {},
   "outputs": [
    {
     "name": "stdout",
     "output_type": "stream",
     "text": [
      "(1, 2, 3, 4)\n"
     ]
    }
   ],
   "source": [
    "t = (1, 2, 3)\n",
    "t = list(t)\n",
    "t.append(4)\n",
    "t = tuple(t)\n",
    "\n",
    "print(t)\n"
   ]
  },
  {
   "cell_type": "code",
   "execution_count": 37,
   "metadata": {},
   "outputs": [
    {
     "data": {
      "text/plain": [
       "(1, 2, 3, 4)"
      ]
     },
     "execution_count": 37,
     "metadata": {},
     "output_type": "execute_result"
    }
   ],
   "source": [
    "t = (1, 2, 3)\n",
    "t += (4, )\n",
    "\n",
    "t"
   ]
  },
  {
   "cell_type": "markdown",
   "metadata": {},
   "source": [
    "##### Q9. 딕셔너리에서 \"B\"에 해당하는 값 추출하기\n",
    "```python\n",
    "a = {\"A\":90, \"B\":80, \"C\":70}\n",
    "```"
   ]
  },
  {
   "cell_type": "code",
   "execution_count": 39,
   "metadata": {},
   "outputs": [
    {
     "data": {
      "text/plain": [
       "80"
      ]
     },
     "execution_count": 39,
     "metadata": {},
     "output_type": "execute_result"
    }
   ],
   "source": [
    "a = {\"A\":90, \"B\":80, \"C\":70}\n",
    "\n",
    "a[\"B\"]"
   ]
  },
  {
   "cell_type": "markdown",
   "metadata": {},
   "source": [
    "##### Q10. 리스트에서 중복 숫자를 제거하기\n",
    "```python\n",
    "a = [1, 1, 1, 2, 2, 3, 3, 3, 4, 4, 4, 5]\n",
    "```"
   ]
  },
  {
   "cell_type": "code",
   "execution_count": 41,
   "metadata": {},
   "outputs": [
    {
     "data": {
      "text/plain": [
       "[1, 2, 3, 4, 5]"
      ]
     },
     "execution_count": 41,
     "metadata": {},
     "output_type": "execute_result"
    }
   ],
   "source": [
    "a = [1, 1, 1, 2, 2, 3, 3, 3, 4, 4, 4, 5]\n",
    "\n",
    "list(set(a))"
   ]
  },
  {
   "cell_type": "markdown",
   "metadata": {},
   "source": [
    "### 2. 제어문\n",
    "\n",
    "##### Q1. 1부터 1000까지의 자연수 중 3의 배수의 합 구하기"
   ]
  },
  {
   "cell_type": "code",
   "execution_count": 47,
   "metadata": {},
   "outputs": [
    {
     "data": {
      "text/plain": [
       "166833"
      ]
     },
     "execution_count": 47,
     "metadata": {},
     "output_type": "execute_result"
    }
   ],
   "source": [
    "# for 반복문 이용\n",
    "sum = 0\n",
    "for idx in range(0, 1001, 3):\n",
    "    sum += idx\n",
    "\n",
    "sum"
   ]
  },
  {
   "cell_type": "code",
   "execution_count": 44,
   "metadata": {},
   "outputs": [
    {
     "data": {
      "text/plain": [
       "166833"
      ]
     },
     "execution_count": 44,
     "metadata": {},
     "output_type": "execute_result"
    }
   ],
   "source": [
    "# while 반복문 이용\n",
    "sum = 0\n",
    "idx = 1\n",
    "while idx<=1000:\n",
    "    if idx%3==0:\n",
    "        sum += idx\n",
    "    idx += 1\n",
    "\n",
    "sum"
   ]
  },
  {
   "cell_type": "markdown",
   "metadata": {},
   "source": [
    "##### Q2. 다음과 같이 별(*)을 표시하는 프로그램 작성하기\n",
    "```\n",
    "*\n",
    "**\n",
    "***\n",
    "****\n",
    "*****\n",
    "```"
   ]
  },
  {
   "cell_type": "code",
   "execution_count": 49,
   "metadata": {},
   "outputs": [
    {
     "name": "stdout",
     "output_type": "stream",
     "text": [
      "*\n",
      "**\n",
      "***\n",
      "****\n",
      "*****\n"
     ]
    }
   ],
   "source": [
    "for idx in range(5):\n",
    "    print(\"*\"*(idx+1))"
   ]
  },
  {
   "cell_type": "markdown",
   "metadata": {},
   "source": [
    "##### Q3. for 반복문을 이용해 평균 구하기\n",
    "```python\n",
    "score = [70, 60, 55, 75, 95, 90, 80, 80, 85, 100]\n",
    "```"
   ]
  },
  {
   "cell_type": "code",
   "execution_count": 50,
   "metadata": {},
   "outputs": [
    {
     "data": {
      "text/plain": [
       "79.0"
      ]
     },
     "execution_count": 50,
     "metadata": {},
     "output_type": "execute_result"
    }
   ],
   "source": [
    "score = [70, 60, 55, 75, 95, 90, 80, 80, 85, 100]\n",
    "sum = 0\n",
    "\n",
    "for s in score:\n",
    "    sum += s\n",
    "\n",
    "sum/len(score)    "
   ]
  },
  {
   "cell_type": "markdown",
   "metadata": {},
   "source": [
    "##### Q4. 다음 코드를 리스트 컴프리헨션으로 바꾸기\n",
    "```python\n",
    "numbers = [1, 2, 3, 4, 5]\n",
    "result = []\n",
    "for n in numbers:\n",
    "    if n % 2 == 1:\n",
    "        result.append(n*2)\n",
    "```"
   ]
  },
  {
   "cell_type": "code",
   "execution_count": 56,
   "metadata": {},
   "outputs": [
    {
     "data": {
      "text/plain": [
       "[2, 6, 10]"
      ]
     },
     "execution_count": 56,
     "metadata": {},
     "output_type": "execute_result"
    }
   ],
   "source": [
    "numbers = [1, 2, 3, 4, 5]\n",
    "result = [x*2 for x in numbers if x%2==1]\n",
    "result"
   ]
  },
  {
   "cell_type": "markdown",
   "metadata": {},
   "source": [
    "### 3. 함수\n",
    "##### Q1. 주어진 자연수가 홀수인지 짝수인지 판별하는 함수 만들기"
   ]
  },
  {
   "cell_type": "code",
   "execution_count": 60,
   "metadata": {},
   "outputs": [],
   "source": [
    "def is_even_odd(num):\n",
    "    return \"짝수\" if num%2==0 else \"홀수\""
   ]
  },
  {
   "cell_type": "markdown",
   "metadata": {},
   "source": [
    "##### Q2. 입력으로 들어오는 모든 수의 평균 값을 계산해주는 함수 만들기"
   ]
  },
  {
   "cell_type": "code",
   "execution_count": null,
   "metadata": {},
   "outputs": [],
   "source": [
    "def sum_input(l: list)->int:\n",
    "    return sum(l)/len(l)"
   ]
  },
  {
   "cell_type": "markdown",
   "metadata": {},
   "source": [
    "##### Q3. 파일의 내용을 수정하는 함수 작성하기 (java -> python)"
   ]
  },
  {
   "cell_type": "code",
   "execution_count": 61,
   "metadata": {},
   "outputs": [],
   "source": [
    "# txt 파일로 저장하는 코드\n",
    "s = \"Life is too short\\nyou need java\"\n",
    "\n",
    "with open(\"test.txt\", \"w\") as f:\n",
    "    f.write(s)"
   ]
  },
  {
   "cell_type": "code",
   "execution_count": 62,
   "metadata": {},
   "outputs": [
    {
     "name": "stdout",
     "output_type": "stream",
     "text": [
      "Life is too short\n",
      "you need java\n"
     ]
    }
   ],
   "source": [
    "# 파일을 열고 내용 출력하기\n",
    "with open(\"./test.txt\", \"r\") as f:\n",
    "    print(f.read())"
   ]
  },
  {
   "cell_type": "code",
   "execution_count": 69,
   "metadata": {},
   "outputs": [],
   "source": [
    "def replace_str():\n",
    "    temp = \"\"\n",
    "\n",
    "    with open(\"./test.txt\", \"r\") as f:\n",
    "        temp = f.read()\n",
    "    \n",
    "    temp = temp.replace(\"java\", \"python\")\n",
    "\n",
    "    with open(\"./test.txt\", \"w\") as f:\n",
    "        f.write(temp)"
   ]
  }
 ],
 "metadata": {
  "kernelspec": {
   "display_name": "Python 3.9.12 64-bit",
   "language": "python",
   "name": "python3"
  },
  "language_info": {
   "codemirror_mode": {
    "name": "ipython",
    "version": 3
   },
   "file_extension": ".py",
   "mimetype": "text/x-python",
   "name": "python",
   "nbconvert_exporter": "python",
   "pygments_lexer": "ipython3",
   "version": "3.9.12"
  },
  "orig_nbformat": 4,
  "vscode": {
   "interpreter": {
    "hash": "ca7051211f7d0cb84f9a5276aced427e23f2f109de898d0e63a1c129a12d67d5"
   }
  }
 },
 "nbformat": 4,
 "nbformat_minor": 2
}
