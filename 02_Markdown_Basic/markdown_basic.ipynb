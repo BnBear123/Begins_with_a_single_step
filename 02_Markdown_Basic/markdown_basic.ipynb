{
 "cells": [
  {
   "cell_type": "markdown",
   "metadata": {},
   "source": [
    "# 1. 제목 만들기"
   ]
  },
  {
   "cell_type": "markdown",
   "metadata": {},
   "source": [
    "# 제목 1\n",
    "## 제목 2\n",
    "### 제목 3\n",
    "#### 제목 4\n",
    "##### 제목 5\n",
    "###### 제목 6"
   ]
  },
  {
   "cell_type": "markdown",
   "metadata": {},
   "source": [
    "제목 1은 이렇게도 만들 수 있습니다\n",
    "=="
   ]
  },
  {
   "cell_type": "markdown",
   "metadata": {},
   "source": [
    "제목 2는 이렇게도 만들 수 있습니다\n",
    "--"
   ]
  },
  {
   "cell_type": "markdown",
   "metadata": {},
   "source": [
    "# 2. 수평선"
   ]
  },
  {
   "cell_type": "markdown",
   "metadata": {},
   "source": [
    "***"
   ]
  },
  {
   "cell_type": "markdown",
   "metadata": {},
   "source": [
    "---"
   ]
  },
  {
   "cell_type": "markdown",
   "metadata": {},
   "source": [
    "___"
   ]
  },
  {
   "cell_type": "markdown",
   "metadata": {},
   "source": [
    "# 3. 줄바꿈\n",
    "엔터를 두 번 치거나, 뒤에 공백이 2칸 있어야 줄바꿈이 됩니다"
   ]
  },
  {
   "cell_type": "markdown",
   "metadata": {},
   "source": [
    "엔터를\n",
    "\n",
    "\n",
    "두번치거나\n",
    "\n",
    "\n",
    "공백이  \n",
    "2칸 이상 있어야합니다"
   ]
  },
  {
   "cell_type": "markdown",
   "metadata": {},
   "source": [
    "# 4. 강조와 취소, 기울여 쓰기"
   ]
  },
  {
   "cell_type": "markdown",
   "metadata": {},
   "source": [
    "**강조**  \n",
    "*기울기*  \n",
    "~~취소~~"
   ]
  },
  {
   "cell_type": "markdown",
   "metadata": {},
   "source": [
    "# 5. 인용"
   ]
  },
  {
   "cell_type": "markdown",
   "metadata": {},
   "source": [
    "> 꺽쇠 표시를 이용해 인용구를 작성할 수 있습니다  \n",
    "> > 들여쓰기도 가능합니다\n",
    "> > > # 다른 마크다운 문법과 **혼용** 가능합니다"
   ]
  },
  {
   "cell_type": "markdown",
   "metadata": {},
   "source": [
    "# 6. 목차 만들기"
   ]
  },
  {
   "cell_type": "markdown",
   "metadata": {},
   "source": [
    "- 목차 1\n",
    "  - 목차 2\n",
    "    - 목차 3\n",
    "\n",
    "\n",
    "* 목차 1\n",
    "  * 목차 2\n",
    "    * 목차 3\n",
    "\n",
    "\n",
    "+ 목차 1\n",
    "  + 목차 2\n",
    "    + 목차 3\n",
    "\n",
    "\n",
    "1. 순서가 있는 목차 1\n",
    "2. 순서가 있는 목차 2\n",
    "   1. 순서가 있는 목차 2-1\n",
    "   2. 순서가 있는 목차 2-2\n",
    "\n",
    "- 혼합해\n",
    "  * 목차를\n",
    "    + 생성 가능합니다\n",
    "      1. !!!"
   ]
  },
  {
   "cell_type": "markdown",
   "metadata": {},
   "source": [
    "# 7. 특수 문자 출력하기\n",
    "\\\\를 사용합니다"
   ]
  },
  {
   "cell_type": "markdown",
   "metadata": {},
   "source": [
    "\\*  \n",
    "\\\\  \n",
    "..."
   ]
  },
  {
   "cell_type": "markdown",
   "metadata": {},
   "source": [
    "# 8. 코드 블럭\n",
    "\\```로 감싼 블럭 안은 코드 블럭입니다"
   ]
  },
  {
   "cell_type": "markdown",
   "metadata": {},
   "source": [
    "```\n",
    "s = input()\n",
    "print(s)\n",
    "```"
   ]
  },
  {
   "cell_type": "markdown",
   "metadata": {},
   "source": [
    "```python\n",
    "s = input()\n",
    "print(s)\n",
    "```"
   ]
  },
  {
   "cell_type": "markdown",
   "metadata": {},
   "source": [
    "# 9. 수학식 사용하기 -> LaTex\n",
    "[LaTex 기호 찾기](http://detexify.kirelabs.org/classify.html)"
   ]
  },
  {
   "cell_type": "markdown",
   "metadata": {},
   "source": [
    "$ f(x) = a \\times x^2 + b \\times x + c $  \n",
    "$ f(x) = ax^2 + bx + c $  \n",
    "$ \\hat y = y_{sample} $"
   ]
  },
  {
   "cell_type": "markdown",
   "metadata": {},
   "source": [
    "$$ Sum(x_n) = \\sum^n_{i=0} x_i $$"
   ]
  },
  {
   "cell_type": "markdown",
   "metadata": {},
   "source": [
    "# 10. 표 그리기"
   ]
  },
  {
   "cell_type": "markdown",
   "metadata": {},
   "source": [
    "| 표 1 | 표 2 | 표 3 |\n",
    "| --- | --- | --- |\n",
    "| e1 | e2 | e3 |\n",
    "| e4 | e5 | e6 |"
   ]
  },
  {
   "cell_type": "markdown",
   "metadata": {},
   "source": [
    "| 표 1 | 표 2 | 표 3 |\n",
    "| :--- | ---: | :---: |\n",
    "| e1 | e2 | e3 |\n",
    "| e4 | e5 | e6 |"
   ]
  },
  {
   "cell_type": "markdown",
   "metadata": {},
   "source": [
    "# 11. 링크 임베딩"
   ]
  },
  {
   "cell_type": "markdown",
   "metadata": {},
   "source": [
    "[네이버 링크](https://www.naver.com/)"
   ]
  },
  {
   "cell_type": "markdown",
   "metadata": {},
   "source": [
    "[천리길 스터디 깃허브 링크](https://github.com/nuyhc/Begins_with_a_single_step)"
   ]
  },
  {
   "cell_type": "markdown",
   "metadata": {},
   "source": [
    "# 12. 이미지 임베딩"
   ]
  },
  {
   "cell_type": "markdown",
   "metadata": {},
   "source": [
    "![png](./profile7.png)"
   ]
  },
  {
   "cell_type": "markdown",
   "metadata": {},
   "source": [
    "![html](data:image/png;base64,iVBORw0KGgoAAAANSUhEUgAAAOEAAADhCAMAAAAJbSJIAAAAnFBMVEUAAAD////wmDdnZ2d/f3/R0dHShTDtljaZmZn09PS3t7f3nDnnkjXv7+/e3t7CwsLX19dKSkoxHwsgICA+Pj5NMRKFhYWsrKympqZra2tISEhRUVHLy8thYWF3d3fk5OSSkpI0NDQsLCwiIiJZWVmKiooLCws4JA2qbCdGLBCaYiM/KA7cizKMWSArHAmEUx4hFQgUDQXFfS11ShtQSi5pAAAEXklEQVR4nO2ca3+aOhyAvW5ahlLbqXipl9ruXLaznp3v/92O5AIJgopAOvp7njfTBMj/MSQkaVirBQAAAAAAAAAAAAAAAAAAAAAAAAAAAAAAAAAAAAAAAAAAuXz77OXxKf+sdh5Td5Ffzx9eJ5vihv7BXdhF+Pol27Gw4cxdzEXJrsaChv69u4CL8+f3DMdihnN30d7GX6eKRQw3j+5CvZW/T6qxgOHAXZxlSFfj1YabnbsgyzH55N1iuHUVXxX88AobjvbuwquCf4xqvMpw6yqy6vjpedcbBg/uAquOt1/etYa/5Sj0Gn52vGsM+42sQMm/ohovGPbcxVMH/x2r8azh6tVdMDXx6+z88MldILXxds7wQzDBsPFg2HwwbD4YNh8Mmw+GzQfD5jPxOl/y6EzeO7oqmOT9WfGI9/W9o6sCDJsPhs3n4xu+dT7n8jEMAQAAAN6V+2mv15s+p1LXvSg1+hR96HWTHPF9Gv1R96l3gnGdrkhIlybOCc3i54Ef7cXsD8y9YGF0mPmH42cR5W07bgdio0R6s+dKpEaf5EaYOGMsN45EZQ0zNlUu4gOD+AomcmNbYrIxt0ut4/SRSDAUlyLhrkLDsW3Y1+l37eRw/6xhP9NQ/Coj9eU1SJ0d7yhSGUm1OjOcJTVY3vAx4/yDZeg7N5zLgtXdVNJwl3F6u901Ddtjx4ZbWazuKIShPzZZJffVRcO4GQfzl5dZ/HPtTMP2i1PDqSw0bv++UbunXDJULbq9Ut1vqL5vLEN9UzgxfJJFJg8AYRi0crhguFMGyYboB1WpU8tw6M4wtG+bsoaqCs2YVc/jW4bqJnFguJblbY1jShmq+K1M1VMvLUNZy7Ubrh7T91SrXDu8l9ez37rYx4nSMDGu31ANPVbWMRlPC+NFn/OGqtda2Lm+LkUNiIK4oms31CwvGBp1ct5w3s7KlmPFjTZ8UE+UwKHhsCrDWaahLNVPDJf6ss4MrWbnoA71IGO9cGCouvdtNYaqHaYmbfKKgWGopNuH+g1n6kCjcyjTl6rbz54/qr70zjRUTXFYu2F0bVls0hQreB6OrEzVOEPL0JyB1GgoInmVxcSPjCrGNOY8Xru0LEN9Q9dsKK3UuEa/GFLKUOskLyK+qnHpLGWolxVKGqbfeMyeH86sqKqZW+ha1HMLcYplmHRpZQw3Ji+5c3w5tvGNgod9kyD5paThyLisv8icH262h+V6EC/Y9E4N91UYWgxyDZ/lAePEMEV6jm+xvGKOL8d9tqGeuLkwtCaJJQ0z12mUQ8owa65Vl6Fu9rsKDDOO0bPPtKFqHlUa5q6X6idw67r10rSh+DdZL+2a66XxgoZeLzVGPA8iYdy6hcewmyI8dhdL8SHKj7JDY06xF8eHx0pcp088Jic/+yEzU5xjLl3fz5TkaGC8PytODs23waIww9/6Pyk4x36xaPC7iQAAAAAAAAAAAAAAAAAAAAAAAAAAAAAAAAAAAAAAAADwfvwPJUxEPansqD4AAAAASUVORK5CYII=)"
   ]
  },
  {
   "cell_type": "markdown",
   "metadata": {},
   "source": [
    "<img src=\"data:image/png;base64,iVBORw0KGgoAAAANSUhEUgAAAOEAAADhCAMAAAAJbSJIAAAAnFBMVEUAAAD////wmDdnZ2d/f3/R0dHShTDtljaZmZn09PS3t7f3nDnnkjXv7+/e3t7CwsLX19dKSkoxHwsgICA+Pj5NMRKFhYWsrKympqZra2tISEhRUVHLy8thYWF3d3fk5OSSkpI0NDQsLCwiIiJZWVmKiooLCws4JA2qbCdGLBCaYiM/KA7cizKMWSArHAmEUx4hFQgUDQXFfS11ShtQSi5pAAAEXklEQVR4nO2ca3+aOhyAvW5ahlLbqXipl9ruXLaznp3v/92O5AIJgopAOvp7njfTBMj/MSQkaVirBQAAAAAAAAAAAAAAAAAAAAAAAAAAAAAAAAAAAAAAAAAAuXz77OXxKf+sdh5Td5Ffzx9eJ5vihv7BXdhF+Pol27Gw4cxdzEXJrsaChv69u4CL8+f3DMdihnN30d7GX6eKRQw3j+5CvZW/T6qxgOHAXZxlSFfj1YabnbsgyzH55N1iuHUVXxX88AobjvbuwquCf4xqvMpw6yqy6vjpedcbBg/uAquOt1/etYa/5Sj0Gn52vGsM+42sQMm/ohovGPbcxVMH/x2r8azh6tVdMDXx6+z88MldILXxds7wQzDBsPFg2HwwbD4YNh8Mmw+GzQfD5jPxOl/y6EzeO7oqmOT9WfGI9/W9o6sCDJsPhs3n4xu+dT7n8jEMAQAAAN6V+2mv15s+p1LXvSg1+hR96HWTHPF9Gv1R96l3gnGdrkhIlybOCc3i54Ef7cXsD8y9YGF0mPmH42cR5W07bgdio0R6s+dKpEaf5EaYOGMsN45EZQ0zNlUu4gOD+AomcmNbYrIxt0ut4/SRSDAUlyLhrkLDsW3Y1+l37eRw/6xhP9NQ/Coj9eU1SJ0d7yhSGUm1OjOcJTVY3vAx4/yDZeg7N5zLgtXdVNJwl3F6u901Ddtjx4ZbWazuKIShPzZZJffVRcO4GQfzl5dZ/HPtTMP2i1PDqSw0bv++UbunXDJULbq9Ut1vqL5vLEN9UzgxfJJFJg8AYRi0crhguFMGyYboB1WpU8tw6M4wtG+bsoaqCs2YVc/jW4bqJnFguJblbY1jShmq+K1M1VMvLUNZy7Ubrh7T91SrXDu8l9ez37rYx4nSMDGu31ANPVbWMRlPC+NFn/OGqtda2Lm+LkUNiIK4oms31CwvGBp1ct5w3s7KlmPFjTZ8UE+UwKHhsCrDWaahLNVPDJf6ss4MrWbnoA71IGO9cGCouvdtNYaqHaYmbfKKgWGopNuH+g1n6kCjcyjTl6rbz54/qr70zjRUTXFYu2F0bVls0hQreB6OrEzVOEPL0JyB1GgoInmVxcSPjCrGNOY8Xru0LEN9Q9dsKK3UuEa/GFLKUOskLyK+qnHpLGWolxVKGqbfeMyeH86sqKqZW+ha1HMLcYplmHRpZQw3Ji+5c3w5tvGNgod9kyD5paThyLisv8icH262h+V6EC/Y9E4N91UYWgxyDZ/lAePEMEV6jm+xvGKOL8d9tqGeuLkwtCaJJQ0z12mUQ8owa65Vl6Fu9rsKDDOO0bPPtKFqHlUa5q6X6idw67r10rSh+DdZL+2a66XxgoZeLzVGPA8iYdy6hcewmyI8dhdL8SHKj7JDY06xF8eHx0pcp088Jic/+yEzU5xjLl3fz5TkaGC8PytODs23waIww9/6Pyk4x36xaPC7iQAAAAAAAAAAAAAAAAAAAAAAAAAAAAAAAAAAAAAAAADwfvwPJUxEPansqD4AAAAASUVORK5CYII=\" >"
   ]
  },
  {
   "cell_type": "markdown",
   "metadata": {},
   "source": [
    "<img src=\"data:image/png;base64,iVBORw0KGgoAAAANSUhEUgAAAOEAAADhCAMAAAAJbSJIAAAAnFBMVEUAAAD////wmDdnZ2d/f3/R0dHShTDtljaZmZn09PS3t7f3nDnnkjXv7+/e3t7CwsLX19dKSkoxHwsgICA+Pj5NMRKFhYWsrKympqZra2tISEhRUVHLy8thYWF3d3fk5OSSkpI0NDQsLCwiIiJZWVmKiooLCws4JA2qbCdGLBCaYiM/KA7cizKMWSArHAmEUx4hFQgUDQXFfS11ShtQSi5pAAAEXklEQVR4nO2ca3+aOhyAvW5ahlLbqXipl9ruXLaznp3v/92O5AIJgopAOvp7njfTBMj/MSQkaVirBQAAAAAAAAAAAAAAAAAAAAAAAAAAAAAAAAAAAAAAAAAAuXz77OXxKf+sdh5Td5Ffzx9eJ5vihv7BXdhF+Pol27Gw4cxdzEXJrsaChv69u4CL8+f3DMdihnN30d7GX6eKRQw3j+5CvZW/T6qxgOHAXZxlSFfj1YabnbsgyzH55N1iuHUVXxX88AobjvbuwquCf4xqvMpw6yqy6vjpedcbBg/uAquOt1/etYa/5Sj0Gn52vGsM+42sQMm/ohovGPbcxVMH/x2r8azh6tVdMDXx6+z88MldILXxds7wQzDBsPFg2HwwbD4YNh8Mmw+GzQfD5jPxOl/y6EzeO7oqmOT9WfGI9/W9o6sCDJsPhs3n4xu+dT7n8jEMAQAAAN6V+2mv15s+p1LXvSg1+hR96HWTHPF9Gv1R96l3gnGdrkhIlybOCc3i54Ef7cXsD8y9YGF0mPmH42cR5W07bgdio0R6s+dKpEaf5EaYOGMsN45EZQ0zNlUu4gOD+AomcmNbYrIxt0ut4/SRSDAUlyLhrkLDsW3Y1+l37eRw/6xhP9NQ/Coj9eU1SJ0d7yhSGUm1OjOcJTVY3vAx4/yDZeg7N5zLgtXdVNJwl3F6u901Ddtjx4ZbWazuKIShPzZZJffVRcO4GQfzl5dZ/HPtTMP2i1PDqSw0bv++UbunXDJULbq9Ut1vqL5vLEN9UzgxfJJFJg8AYRi0crhguFMGyYboB1WpU8tw6M4wtG+bsoaqCs2YVc/jW4bqJnFguJblbY1jShmq+K1M1VMvLUNZy7Ubrh7T91SrXDu8l9ez37rYx4nSMDGu31ANPVbWMRlPC+NFn/OGqtda2Lm+LkUNiIK4oms31CwvGBp1ct5w3s7KlmPFjTZ8UE+UwKHhsCrDWaahLNVPDJf6ss4MrWbnoA71IGO9cGCouvdtNYaqHaYmbfKKgWGopNuH+g1n6kCjcyjTl6rbz54/qr70zjRUTXFYu2F0bVls0hQreB6OrEzVOEPL0JyB1GgoInmVxcSPjCrGNOY8Xru0LEN9Q9dsKK3UuEa/GFLKUOskLyK+qnHpLGWolxVKGqbfeMyeH86sqKqZW+ha1HMLcYplmHRpZQw3Ji+5c3w5tvGNgod9kyD5paThyLisv8icH262h+V6EC/Y9E4N91UYWgxyDZ/lAePEMEV6jm+xvGKOL8d9tqGeuLkwtCaJJQ0z12mUQ8owa65Vl6Fu9rsKDDOO0bPPtKFqHlUa5q6X6idw67r10rSh+DdZL+2a66XxgoZeLzVGPA8iYdy6hcewmyI8dhdL8SHKj7JDY06xF8eHx0pcp088Jic/+yEzU5xjLl3fz5TkaGC8PytODs23waIww9/6Pyk4x36xaPC7iQAAAAAAAAAAAAAAAAAAAAAAAAAAAAAAAAAAAAAAAADwfvwPJUxEPansqD4AAAAASUVORK5CYII=\" width=\"400\" height=\"400\">"
   ]
  }
 ],
 "metadata": {
  "kernelspec": {
   "display_name": "Python 3.9.12 64-bit",
   "language": "python",
   "name": "python3"
  },
  "language_info": {
   "codemirror_mode": {
    "name": "ipython",
    "version": 3
   },
   "file_extension": ".py",
   "mimetype": "text/x-python",
   "name": "python",
   "nbconvert_exporter": "python",
   "pygments_lexer": "ipython3",
   "version": "3.9.12"
  },
  "orig_nbformat": 4,
  "vscode": {
   "interpreter": {
    "hash": "ca7051211f7d0cb84f9a5276aced427e23f2f109de898d0e63a1c129a12d67d5"
   }
  }
 },
 "nbformat": 4,
 "nbformat_minor": 2
}
