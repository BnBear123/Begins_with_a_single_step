{
 "cells": [
  {
   "cell_type": "code",
   "execution_count": 39,
   "metadata": {},
   "outputs": [],
   "source": [
    "def load_data_pre():\n",
    "    with open(\"./students.txt\", \"r\", encoding=\"utf8\") as file:\n",
    "        students = file.readlines()\n",
    "    students = \"\".join(students)\n",
    "    students = students.split(\"\\n\")\n",
    "\n",
    "    remove_list = input(\"빠지는 사람: \").split()\n",
    "    if len(remove_list)!=0:\n",
    "        for remove in remove_list:\n",
    "            try: students.remove(remove)\n",
    "            except: pass\n",
    "    \n",
    "    return students"
   ]
  },
  {
   "cell_type": "code",
   "execution_count": 50,
   "metadata": {},
   "outputs": [],
   "source": [
    "import random\n",
    "from datetime import date\n",
    "\n",
    "def get_presenter():\n",
    "    ymd = date.today().isoformat().split(\"-\")\n",
    "    students = load_data_pre()\n",
    "    title = input(\"발표 주제: \").split()\n",
    "    if len(title)==0:\n",
    "        presenter = random.sample(students, 1)\n",
    "        print(f\"{ymd[0]}년 {ymd[1]}월 {ymd[2]}일 발표자: {presenter}\")\n",
    "    else:\n",
    "        presenter = random.sample(students, len(title))\n",
    "        print(f\"{ymd[0]}년 {ymd[1]}월 {ymd[2]}일 주제별 발표자\")\n",
    "        for idx, t, s in zip(range(len(title)), title, presenter):\n",
    "            print(f\"{idx+1}.{t} [{s}]\")"
   ]
  }
 ],
 "metadata": {
  "kernelspec": {
   "display_name": "Python 3.9.12 64-bit",
   "language": "python",
   "name": "python3"
  },
  "language_info": {
   "codemirror_mode": {
    "name": "ipython",
    "version": 3
   },
   "file_extension": ".py",
   "mimetype": "text/x-python",
   "name": "python",
   "nbconvert_exporter": "python",
   "pygments_lexer": "ipython3",
   "version": "3.9.12"
  },
  "orig_nbformat": 4,
  "vscode": {
   "interpreter": {
    "hash": "ca7051211f7d0cb84f9a5276aced427e23f2f109de898d0e63a1c129a12d67d5"
   }
  }
 },
 "nbformat": 4,
 "nbformat_minor": 2
}
